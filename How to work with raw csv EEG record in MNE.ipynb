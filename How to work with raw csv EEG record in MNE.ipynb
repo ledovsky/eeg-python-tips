{
 "cells": [
  {
   "cell_type": "markdown",
   "id": "ebae4c0f",
   "metadata": {},
   "source": [
    "# How to work with raw csv EEG record in MNE\n",
    "\n",
    "How to raw EEG record in csv format in MNE. Add channel names, sampling frequency and montage. Then save for EEGLAB"
   ]
  },
  {
   "cell_type": "code",
   "execution_count": 1,
   "id": "3ce6caf0",
   "metadata": {},
   "outputs": [],
   "source": [
    "import numpy as np\n",
    "import pandas as pd\n",
    "\n",
    "import matplotlib.pyplot as plt\n",
    "import seaborn as sns\n",
    "%matplotlib notebook\n",
    "\n",
    "# In case you prefer svg plotting\n",
    "# %matplotlib inline\n",
    "# %config InlineBackend.figure_format = 'svg'\n",
    "\n",
    "import mne"
   ]
  },
  {
   "cell_type": "code",
   "execution_count": 22,
   "id": "83d53efb",
   "metadata": {},
   "outputs": [
    {
     "data": {
      "text/plain": [
       "'1.3.1'"
      ]
     },
     "execution_count": 22,
     "metadata": {},
     "output_type": "execute_result"
    }
   ],
   "source": [
    "mne.__version__"
   ]
  },
  {
   "cell_type": "code",
   "execution_count": 2,
   "id": "cce3bedf",
   "metadata": {},
   "outputs": [],
   "source": [
    "from mne.channels.layout import _find_topomap_coords"
   ]
  },
  {
   "cell_type": "markdown",
   "id": "deacac0d",
   "metadata": {},
   "source": [
    "Given csv with EEG record. Rows are channels. Columns are data samples. Channel names are in separate file"
   ]
  },
  {
   "cell_type": "code",
   "execution_count": 3,
   "id": "dddd64c1",
   "metadata": {},
   "outputs": [
    {
     "name": "stderr",
     "output_type": "stream",
     "text": [
      "/tmp/ipykernel_7316/2007279127.py:1: ParserWarning: Falling back to the 'python' engine because the 'c' engine does not support regex separators (separators > 1 char and different from '\\s+' are interpreted as regex); you can avoid this warning by specifying engine='python'.\n",
      "  raw_nums = pd.read_csv('matrix_eeg_stack.csv', header=None, sep='\\s')\n"
     ]
    }
   ],
   "source": [
    "raw_nums = pd.read_csv('matrix_eeg_stack.csv', header=None, sep='\\s')"
   ]
  },
  {
   "cell_type": "code",
   "execution_count": 4,
   "id": "11edcfe9",
   "metadata": {},
   "outputs": [
    {
     "data": {
      "text/plain": [
       "(31, 423150)"
      ]
     },
     "execution_count": 4,
     "metadata": {},
     "output_type": "execute_result"
    }
   ],
   "source": [
    "raw_nums.shape"
   ]
  },
  {
   "cell_type": "code",
   "execution_count": 5,
   "id": "f4a583bc",
   "metadata": {},
   "outputs": [
    {
     "data": {
      "text/html": [
       "<div>\n",
       "<style scoped>\n",
       "    .dataframe tbody tr th:only-of-type {\n",
       "        vertical-align: middle;\n",
       "    }\n",
       "\n",
       "    .dataframe tbody tr th {\n",
       "        vertical-align: top;\n",
       "    }\n",
       "\n",
       "    .dataframe thead th {\n",
       "        text-align: right;\n",
       "    }\n",
       "</style>\n",
       "<table border=\"1\" class=\"dataframe\">\n",
       "  <thead>\n",
       "    <tr style=\"text-align: right;\">\n",
       "      <th></th>\n",
       "      <th>0</th>\n",
       "      <th>1</th>\n",
       "      <th>2</th>\n",
       "      <th>3</th>\n",
       "      <th>4</th>\n",
       "      <th>5</th>\n",
       "      <th>6</th>\n",
       "      <th>7</th>\n",
       "      <th>8</th>\n",
       "      <th>9</th>\n",
       "      <th>...</th>\n",
       "      <th>423140</th>\n",
       "      <th>423141</th>\n",
       "      <th>423142</th>\n",
       "      <th>423143</th>\n",
       "      <th>423144</th>\n",
       "      <th>423145</th>\n",
       "      <th>423146</th>\n",
       "      <th>423147</th>\n",
       "      <th>423148</th>\n",
       "      <th>423149</th>\n",
       "    </tr>\n",
       "  </thead>\n",
       "  <tbody>\n",
       "    <tr>\n",
       "      <th>0</th>\n",
       "      <td>-0.000023</td>\n",
       "      <td>-0.000022</td>\n",
       "      <td>-0.000021</td>\n",
       "      <td>-0.000021</td>\n",
       "      <td>-0.000022</td>\n",
       "      <td>-0.000023</td>\n",
       "      <td>-0.000025</td>\n",
       "      <td>-0.000028</td>\n",
       "      <td>-0.00003</td>\n",
       "      <td>-0.000033</td>\n",
       "      <td>...</td>\n",
       "      <td>-0.000044</td>\n",
       "      <td>-0.000045</td>\n",
       "      <td>-0.000044</td>\n",
       "      <td>-0.000043</td>\n",
       "      <td>-0.000042</td>\n",
       "      <td>-0.00004</td>\n",
       "      <td>-0.000038</td>\n",
       "      <td>-0.000036</td>\n",
       "      <td>-0.000035</td>\n",
       "      <td>-0.000035</td>\n",
       "    </tr>\n",
       "  </tbody>\n",
       "</table>\n",
       "<p>1 rows × 423150 columns</p>\n",
       "</div>"
      ],
      "text/plain": [
       "     0         1         2         3         4         5         6        \n",
       "0 -0.000023 -0.000022 -0.000021 -0.000021 -0.000022 -0.000023 -0.000025  \\\n",
       "\n",
       "     7        8         9       ...    423140    423141    423142    423143   \n",
       "0 -0.000028 -0.00003 -0.000033  ... -0.000044 -0.000045 -0.000044 -0.000043  \\\n",
       "\n",
       "     423144   423145    423146    423147    423148    423149  \n",
       "0 -0.000042 -0.00004 -0.000038 -0.000036 -0.000035 -0.000035  \n",
       "\n",
       "[1 rows x 423150 columns]"
      ]
     },
     "execution_count": 5,
     "metadata": {},
     "output_type": "execute_result"
    }
   ],
   "source": [
    "raw_nums.head(1)"
   ]
  },
  {
   "cell_type": "markdown",
   "id": "8b1a50a6",
   "metadata": {},
   "source": [
    "We know actual channel names"
   ]
  },
  {
   "cell_type": "code",
   "execution_count": 6,
   "id": "06314d4d",
   "metadata": {},
   "outputs": [],
   "source": [
    "channels_to_use = [\n",
    "    'Fp1',\n",
    "    'Fpz',\n",
    "    'Fp2',\n",
    "    'F3',\n",
    "    'Fz',\n",
    "    'F4',\n",
    "    'F7',\n",
    "    'F8',\n",
    "    'FC3',\n",
    "    'FCz',\n",
    "    'FC4',\n",
    "    'FT7',\n",
    "    'FT8',\n",
    "    'C3',\n",
    "    'Cz',\n",
    "    'C4',\n",
    "    'CP3',\n",
    "    'CPz',\n",
    "    'CP4',\n",
    "    'P3',\n",
    "    'Pz',\n",
    "    'P4',\n",
    "    'TP7',\n",
    "    'TP8',\n",
    "    'T3',\n",
    "    'T4',\n",
    "    'T5',\n",
    "    'T6',\n",
    "    'O1',\n",
    "    'Oz',\n",
    "    'O2'\n",
    "]"
   ]
  },
  {
   "cell_type": "markdown",
   "id": "d00420e1",
   "metadata": {},
   "source": [
    "## Save Montage for EEGLAB"
   ]
  },
  {
   "cell_type": "code",
   "execution_count": 7,
   "id": "6f96382d",
   "metadata": {},
   "outputs": [],
   "source": [
    "ten_twenty_montage = mne.channels.make_standard_montage('standard_1020')\n",
    "info = mne.io.meas_info.create_info(channels_to_use, sfreq=500, ch_types=\"eeg\")"
   ]
  },
  {
   "cell_type": "code",
   "execution_count": 8,
   "id": "7d5fc2dd",
   "metadata": {},
   "outputs": [
    {
     "name": "stdout",
     "output_type": "stream",
     "text": [
      "Creating RawArray with float64 data, n_channels=31, n_times=423150\n",
      "    Range : 0 ... 423149 =      0.000 ...   846.298 secs\n",
      "Ready.\n"
     ]
    }
   ],
   "source": [
    "raw = mne.io.RawArray(raw_nums.values, info)"
   ]
  },
  {
   "cell_type": "code",
   "execution_count": 9,
   "id": "75e1463f",
   "metadata": {},
   "outputs": [
    {
     "data": {
      "text/plain": [
       "(423150, 32)"
      ]
     },
     "execution_count": 9,
     "metadata": {},
     "output_type": "execute_result"
    }
   ],
   "source": [
    "raw.to_data_frame().shape"
   ]
  },
  {
   "cell_type": "code",
   "execution_count": 10,
   "id": "2edb9a5b",
   "metadata": {},
   "outputs": [],
   "source": [
    "ten_twenty_montage = mne.channels.make_standard_montage('standard_1020')\n",
    "raw.set_montage(ten_twenty_montage);"
   ]
  },
  {
   "cell_type": "code",
   "execution_count": 14,
   "id": "8e25a042",
   "metadata": {},
   "outputs": [],
   "source": [
    "def save_montage_xyz(montage, path):\n",
    "    rows = []\n",
    "    for ch, coords in montage.get_positions()['ch_pos'].items():\n",
    "        rows.append([ch, coords[0], coords[1], coords[2]])\n",
    "#     haven't figured out how to use it in EEGLAB to scale topomaps\n",
    "#     for ch in ['lpa', 'rpa', 'nasion']:\n",
    "#         coords = montage.get_positions()[ch]\n",
    "#         rows.append([ch, coords[0], coords[1], coords[2]])\n",
    "    res = ''\n",
    "    for row in rows:\n",
    "        res += f'{row[0]} {row[1]:.4f} {row[2]:.4f} {row[3]:.4f}\\n'\n",
    "    with open(path, 'w') as f:\n",
    "        f.write(res)"
   ]
  },
  {
   "cell_type": "code",
   "execution_count": 15,
   "id": "eabbe924",
   "metadata": {},
   "outputs": [],
   "source": [
    "montage = raw.info.get_montage()"
   ]
  },
  {
   "cell_type": "code",
   "execution_count": 16,
   "id": "58018fb5",
   "metadata": {},
   "outputs": [],
   "source": [
    "save_montage_xyz(montage, 'test_eeg.locs')"
   ]
  },
  {
   "cell_type": "markdown",
   "id": "623e06eb",
   "metadata": {},
   "source": [
    "## Save EDF\n",
    "\n",
    "Forked from\n",
    "\n",
    "https://gist.github.com/skjerns/bc660ef59dca0dbd53f00ed38c42f6be"
   ]
  },
  {
   "cell_type": "code",
   "execution_count": 17,
   "id": "986eeada",
   "metadata": {},
   "outputs": [],
   "source": [
    "import pyedflib # pip install pyedflib\n",
    "from pyedflib import highlevel # new high-level interface\n",
    "from pyedflib import FILETYPE_BDF, FILETYPE_BDFPLUS, FILETYPE_EDF, FILETYPE_EDFPLUS\n",
    "from datetime import datetime, timezone, timedelta\n",
    "import mne\n",
    "import os"
   ]
  },
  {
   "cell_type": "code",
   "execution_count": 18,
   "id": "c9e757bd",
   "metadata": {},
   "outputs": [],
   "source": [
    "from datetime import timezone"
   ]
  },
  {
   "cell_type": "code",
   "execution_count": 19,
   "id": "13126bc7",
   "metadata": {},
   "outputs": [],
   "source": [
    "def _stamp_to_dt(utc_stamp):\n",
    "    \"\"\"Convert timestamp to datetime object in Windows-friendly way.\"\"\"\n",
    "    if 'datetime' in str(type(utc_stamp)): return utc_stamp\n",
    "    # The min on windows is 86400\n",
    "    stamp = [int(s) for s in utc_stamp]\n",
    "    if len(stamp) == 1:  # In case there is no microseconds information\n",
    "        stamp.append(0)\n",
    "    return (datetime.fromtimestamp(0, tz=timezone.utc) +\n",
    "            timedelta(0, stamp[0], stamp[1]))  # day, sec, μs\n",
    "\n",
    "\n",
    "def write_mne_edf(mne_raw, fname, picks=None, tmin=0, tmax=None, \n",
    "                  overwrite=False):\n",
    "    \"\"\"\n",
    "    Saves the raw content of an MNE.io.Raw and its subclasses to\n",
    "    a file using the EDF+/BDF filetype\n",
    "    pyEDFlib is used to save the raw contents of the RawArray to disk\n",
    "    Parameters\n",
    "    ----------\n",
    "    mne_raw : mne.io.Raw\n",
    "        An object with super class mne.io.Raw that contains the data\n",
    "        to save\n",
    "    fname : string\n",
    "        File name of the new dataset. This has to be a new filename\n",
    "        unless data have been preloaded. Filenames should end with .edf\n",
    "    picks : array-like of int | None\n",
    "        Indices of channels to include. If None all channels are kept.\n",
    "    tmin : float | None\n",
    "        Time in seconds of first sample to save. If None first sample\n",
    "        is used.\n",
    "    tmax : float | None\n",
    "        Time in seconds of last sample to save. If None last sample\n",
    "        is used.\n",
    "    overwrite : bool\n",
    "        If True, the destination file (if it exists) will be overwritten.\n",
    "        If False (default), an error will be raised if the file exists.\n",
    "    \"\"\"\n",
    "    if not issubclass(type(mne_raw), mne.io.BaseRaw):\n",
    "        raise TypeError('Must be mne.io.Raw type')\n",
    "    if not overwrite and os.path.exists(fname):\n",
    "        raise OSError('File already exists. No overwrite.')\n",
    "        \n",
    "    # static settings\n",
    "    has_annotations = True if len(mne_raw.annotations)>0 else False\n",
    "    if os.path.splitext(fname)[-1] == '.edf':\n",
    "        file_type = FILETYPE_EDFPLUS if has_annotations else FILETYPE_EDF\n",
    "        dmin, dmax = -32768, 32767 \n",
    "    else:\n",
    "        file_type = FILETYPE_BDFPLUS if has_annotations else FILETYPE_BDF\n",
    "        dmin, dmax = -8388608, 8388607\n",
    "    \n",
    "    print('saving to {}, filetype {}'.format(fname, file_type))\n",
    "    sfreq = mne_raw.info['sfreq']\n",
    "    date = _stamp_to_dt(mne_raw.info['meas_date'])\n",
    "    \n",
    "    if tmin:\n",
    "        date += timedelta(seconds=tmin)\n",
    "    # no conversion necessary, as pyedflib can handle datetime.\n",
    "    #date = date.strftime('%d %b %Y %H:%M:%S')\n",
    "    first_sample = int(sfreq*tmin)\n",
    "    last_sample  = int(sfreq*tmax) if tmax is not None else None\n",
    "\n",
    "    \n",
    "    # convert data\n",
    "    channels = mne_raw.get_data(picks, \n",
    "                                start = first_sample,\n",
    "                                stop  = last_sample)\n",
    "    \n",
    "    # convert to microvolts to scale up precision\n",
    "    channels *= 1e6\n",
    "\n",
    "    # set conversion parameters\n",
    "    n_channels = len(channels)\n",
    "    \n",
    "    # create channel from this   \n",
    "    try:\n",
    "        f = pyedflib.EdfWriter(fname,\n",
    "                               n_channels=n_channels, \n",
    "                               file_type=file_type)\n",
    "        \n",
    "        channel_info = []\n",
    "        \n",
    "        ch_idx = range(n_channels) if picks is None else picks\n",
    "        keys = list(mne_raw._orig_units.keys())\n",
    "        for i in ch_idx:\n",
    "            try:\n",
    "                ch_dict = {'label': mne_raw.ch_names[i], \n",
    "                           'dimension': mne_raw._orig_units[keys[i]], \n",
    "                           'sample_rate': mne_raw._raw_extras[0]['n_samps'][i], \n",
    "                           'physical_min': mne_raw._raw_extras[0]['physical_min'][i], \n",
    "                           'physical_max': mne_raw._raw_extras[0]['physical_max'][i], \n",
    "                           'digital_min':  mne_raw._raw_extras[0]['digital_min'][i], \n",
    "                           'digital_max':  mne_raw._raw_extras[0]['digital_max'][i], \n",
    "                           'transducer': '', \n",
    "                           'prefilter': ''}\n",
    "            except:\n",
    "                ch_dict = {'label': mne_raw.ch_names[i], \n",
    "                           'dimension': 'uV', \n",
    "                           'sample_rate': sfreq, \n",
    "                           'physical_min': channels.min(), \n",
    "                           'physical_max': channels.max(), \n",
    "                           'digital_min':  dmin, \n",
    "                           'digital_max':  dmax, \n",
    "                           'transducer': '', \n",
    "                           'prefilter': ''}\n",
    "        \n",
    "            channel_info.append(ch_dict)\n",
    "        # f.setPatientCode(mne_raw._raw_extras[0]['subject_info'].get('id', '0'))\n",
    "        f.setPatientCode('')\n",
    "        # f.setPatientName(mne_raw._raw_extras[0]['subject_info'].get('name', 'noname'))\n",
    "        f.setPatientName('')\n",
    "        f.setTechnician('mne-gist-save-edf-skjerns')\n",
    "        f.setSignalHeaders(channel_info)\n",
    "        f.setStartdatetime(date)\n",
    "        f.writeSamples(channels)\n",
    "        for annotation in mne_raw.annotations:\n",
    "            onset = annotation['onset']\n",
    "            duration = annotation['duration']\n",
    "            description = annotation['description']\n",
    "            f.writeAnnotation(onset, duration, description)\n",
    "        \n",
    "    except Exception as e:\n",
    "        raise e\n",
    "    finally:\n",
    "        f.close()    \n",
    "    return True"
   ]
  },
  {
   "cell_type": "code",
   "execution_count": 20,
   "id": "109ac84d",
   "metadata": {},
   "outputs": [],
   "source": [
    "raw.set_meas_date(datetime.utcnow().replace(tzinfo=timezone.utc));"
   ]
  },
  {
   "cell_type": "code",
   "execution_count": null,
   "id": "d5d7f9e4",
   "metadata": {},
   "outputs": [],
   "source": [
    "write_mne_edf(raw, 'test_eeg.edf', overwrite=True)"
   ]
  },
  {
   "cell_type": "markdown",
   "id": "2be10048",
   "metadata": {},
   "source": [
    "## How to read in EEGLAB"
   ]
  },
  {
   "cell_type": "markdown",
   "id": "435a0784",
   "metadata": {},
   "source": [
    "```matlab\n",
    "EEG = pop_biosig('test_eeg.edf')\n",
    "EEG.chanlocs = readlocs('test_eeg.locs', 'filetype', 'custom', 'format', {'labels', 'X', 'Y', 'Z'})\n",
    "```"
   ]
  }
 ],
 "metadata": {
  "kernelspec": {
   "display_name": "Python 3 (ipykernel)",
   "language": "python",
   "name": "python3"
  },
  "language_info": {
   "codemirror_mode": {
    "name": "ipython",
    "version": 3
   },
   "file_extension": ".py",
   "mimetype": "text/x-python",
   "name": "python",
   "nbconvert_exporter": "python",
   "pygments_lexer": "ipython3",
   "version": "3.11.3"
  },
  "vscode": {
   "interpreter": {
    "hash": "948b0703d6653b59993e5ec71b78277d76eafe692c4556d933f532f0efe86426"
   }
  }
 },
 "nbformat": 4,
 "nbformat_minor": 5
}
